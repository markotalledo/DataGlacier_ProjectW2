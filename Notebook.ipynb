{
 "cells": [
  {
   "cell_type": "code",
   "execution_count": null,
   "source": [
    "# Basics\r\n",
    "\r\n",
    "import pandas as pd\r\n",
    "import numpy as np\r\n",
    "import warnings\r\n",
    "warnings.filterwarnings('ignore')\r\n",
    "from tabulate import tabulate\r\n",
    "\r\n",
    "\r\n",
    "# Regression modelling\r\n",
    "from sklearn import preprocessing\r\n",
    "from sklearn.linear_model import LinearRegression\r\n",
    "from sklearn import model_selection\r\n",
    "\r\n",
    "# Visualization\r\n",
    "import dtale\r\n",
    "import seaborn as sns\r\n",
    "import matplotlib.pyplot as plt\r\n",
    "\r\n",
    "# Metrics\r\n",
    "from sklearn.metrics import mean_squared_error\r\n",
    "from sklearn.metrics import r2_score\r\n",
    "from sklearn import metrics\r\n",
    "\r\n",
    "# Splitting\r\n",
    "from sklearn.model_selection import train_test_split\r\n",
    "\r\n",
    "# Stats & Math\r\n",
    "import statsmodels.api as sm\r\n",
    "import statsmodels.formula.api as smf\r\n",
    "import scipy.stats as scy\r\n",
    "from scipy.stats import kurtosis\r\n",
    "from scipy import stats\r\n",
    "from math import sqrt"
   ],
   "outputs": [],
   "metadata": {}
  }
 ],
 "metadata": {
  "orig_nbformat": 4,
  "language_info": {
   "name": "python"
  }
 },
 "nbformat": 4,
 "nbformat_minor": 2
}